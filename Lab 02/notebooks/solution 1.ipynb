{
 "cells": [
  {
   "cell_type": "markdown",
   "metadata": {},
   "source": [
    "### Import required packages"
   ]
  },
  {
   "cell_type": "code",
   "execution_count": 1,
   "metadata": {},
   "outputs": [],
   "source": [
    "# import required packages\n",
    "import numpy as np  # for numerical operations\n",
    "import pandas as pd  # for data manipulation and analysis\n",
    "import matplotlib.pyplot as plt  # for data visualization\n",
    "import seaborn as sns  # for enhanced data visualization\n",
    "import warnings  # to suppress unnecessary warnings\n",
    "\n",
    "# Suppress warnings to enhance code readability\n",
    "warnings.filterwarnings(\"ignore\")"
   ]
  },
  {
   "cell_type": "markdown",
   "metadata": {},
   "source": [
    "### Load the Dataset"
   ]
  },
  {
   "cell_type": "code",
   "execution_count": 2,
   "metadata": {},
   "outputs": [
    {
     "name": "stdout",
     "output_type": "stream",
     "text": [
      "*** No CODEPAGE record, no encoding_override: will use 'iso-8859-1'\n"
     ]
    },
    {
     "data": {
      "text/html": [
       "<div>\n",
       "<style scoped>\n",
       "    .dataframe tbody tr th:only-of-type {\n",
       "        vertical-align: middle;\n",
       "    }\n",
       "\n",
       "    .dataframe tbody tr th {\n",
       "        vertical-align: top;\n",
       "    }\n",
       "\n",
       "    .dataframe thead th {\n",
       "        text-align: right;\n",
       "    }\n",
       "</style>\n",
       "<table border=\"1\" class=\"dataframe\">\n",
       "  <thead>\n",
       "    <tr style=\"text-align: right;\">\n",
       "      <th></th>\n",
       "      <th>X</th>\n",
       "      <th>Y</th>\n",
       "    </tr>\n",
       "  </thead>\n",
       "  <tbody>\n",
       "    <tr>\n",
       "      <th>0</th>\n",
       "      <td>1000</td>\n",
       "      <td>1050</td>\n",
       "    </tr>\n",
       "    <tr>\n",
       "      <th>1</th>\n",
       "      <td>1125</td>\n",
       "      <td>1150</td>\n",
       "    </tr>\n",
       "    <tr>\n",
       "      <th>2</th>\n",
       "      <td>1087</td>\n",
       "      <td>1213</td>\n",
       "    </tr>\n",
       "    <tr>\n",
       "      <th>3</th>\n",
       "      <td>1070</td>\n",
       "      <td>1275</td>\n",
       "    </tr>\n",
       "    <tr>\n",
       "      <th>4</th>\n",
       "      <td>1100</td>\n",
       "      <td>1300</td>\n",
       "    </tr>\n",
       "  </tbody>\n",
       "</table>\n",
       "</div>"
      ],
      "text/plain": [
       "      X     Y\n",
       "0  1000  1050\n",
       "1  1125  1150\n",
       "2  1087  1213\n",
       "3  1070  1275\n",
       "4  1100  1300"
      ]
     },
     "execution_count": 2,
     "metadata": {},
     "output_type": "execute_result"
    }
   ],
   "source": [
    "# reads 'ds1.xls' as a pandas dataframe\n",
    "df = pd.read_excel(\"../data/DS1.xls\", engine=\"xlrd\")\n",
    "\n",
    "# displays the top 5 rows of the dataframe\n",
    "df.head()"
   ]
  },
  {
   "cell_type": "markdown",
   "metadata": {},
   "source": [
    "### Handling Missing Values"
   ]
  },
  {
   "cell_type": "code",
   "execution_count": 3,
   "metadata": {},
   "outputs": [
    {
     "data": {
      "text/plain": [
       "X    0\n",
       "Y    0\n",
       "dtype: int64"
      ]
     },
     "execution_count": 3,
     "metadata": {},
     "output_type": "execute_result"
    }
   ],
   "source": [
    "# counting null values in each column of the dataframe\n",
    "df.isna().sum()"
   ]
  },
  {
   "cell_type": "markdown",
   "metadata": {},
   "source": [
    "### Summary Statistics"
   ]
  },
  {
   "cell_type": "code",
   "execution_count": 4,
   "metadata": {},
   "outputs": [
    {
     "data": {
      "text/html": [
       "<div>\n",
       "<style scoped>\n",
       "    .dataframe tbody tr th:only-of-type {\n",
       "        vertical-align: middle;\n",
       "    }\n",
       "\n",
       "    .dataframe tbody tr th {\n",
       "        vertical-align: top;\n",
       "    }\n",
       "\n",
       "    .dataframe thead th {\n",
       "        text-align: right;\n",
       "    }\n",
       "</style>\n",
       "<table border=\"1\" class=\"dataframe\">\n",
       "  <thead>\n",
       "    <tr style=\"text-align: right;\">\n",
       "      <th></th>\n",
       "      <th>count</th>\n",
       "      <th>mean</th>\n",
       "      <th>std</th>\n",
       "      <th>min</th>\n",
       "      <th>25%</th>\n",
       "      <th>50%</th>\n",
       "      <th>75%</th>\n",
       "      <th>max</th>\n",
       "    </tr>\n",
       "  </thead>\n",
       "  <tbody>\n",
       "    <tr>\n",
       "      <th>X</th>\n",
       "      <td>36.0</td>\n",
       "      <td>1134.777778</td>\n",
       "      <td>158.583211</td>\n",
       "      <td>700.0</td>\n",
       "      <td>1080.0</td>\n",
       "      <td>1162.5</td>\n",
       "      <td>1250.0</td>\n",
       "      <td>1375.0</td>\n",
       "    </tr>\n",
       "    <tr>\n",
       "      <th>Y</th>\n",
       "      <td>36.0</td>\n",
       "      <td>1291.055556</td>\n",
       "      <td>124.058038</td>\n",
       "      <td>1050.0</td>\n",
       "      <td>1250.0</td>\n",
       "      <td>1277.5</td>\n",
       "      <td>1300.0</td>\n",
       "      <td>1830.0</td>\n",
       "    </tr>\n",
       "  </tbody>\n",
       "</table>\n",
       "</div>"
      ],
      "text/plain": [
       "   count         mean         std     min     25%     50%     75%     max\n",
       "X   36.0  1134.777778  158.583211   700.0  1080.0  1162.5  1250.0  1375.0\n",
       "Y   36.0  1291.055556  124.058038  1050.0  1250.0  1277.5  1300.0  1830.0"
      ]
     },
     "execution_count": 4,
     "metadata": {},
     "output_type": "execute_result"
    }
   ],
   "source": [
    "# gives summary stats for each field in the dataframe\n",
    "df.describe().T"
   ]
  },
  {
   "cell_type": "markdown",
   "metadata": {},
   "source": [
    "### Outliers Removal"
   ]
  },
  {
   "cell_type": "code",
   "execution_count": 5,
   "metadata": {},
   "outputs": [
    {
     "data": {
      "text/plain": [
       "(array([9]), array([1]))"
      ]
     },
     "execution_count": 5,
     "metadata": {},
     "output_type": "execute_result"
    }
   ],
   "source": [
    "# calculate z-scores for each element in the dataFrame\n",
    "# define a threshold for identifying outliers (e.g., z-score > 3 for extreme outliers)\n",
    "np.where(df.apply(lambda x: (x - x.mean()) / x.std()) > 3)"
   ]
  },
  {
   "cell_type": "code",
   "execution_count": 6,
   "metadata": {},
   "outputs": [],
   "source": [
    "# remove rows with outliers based on the threshold\n",
    "df.drop(np.where(df.apply(lambda x: (x - x.mean()) / x.std()) > 3)[0], inplace=True)"
   ]
  },
  {
   "cell_type": "markdown",
   "metadata": {},
   "source": [
    "### Data Normalization"
   ]
  },
  {
   "cell_type": "code",
   "execution_count": 7,
   "metadata": {},
   "outputs": [],
   "source": [
    "# normalize each column in the DataFrame 'df' by subtracting the mean and dividing by the standard deviation.\n",
    "df = df.apply(lambda x: (x - x.mean()) / x.std())"
   ]
  },
  {
   "cell_type": "markdown",
   "metadata": {},
   "source": [
    "### Data Visualization"
   ]
  },
  {
   "cell_type": "code",
   "execution_count": 8,
   "metadata": {},
   "outputs": [
    {
     "data": {
      "image/png": "[encoded data removed]",
      "text/plain": [
       "<Figure size 1200x600 with 2 Axes>"
      ]
     },
     "metadata": {},
     "output_type": "display_data"
    }
   ],
   "source": [
    "# create a figure with two subplots\n",
    "fig, axes = plt.subplots(nrows=1, ncols=2, figsize=(12, 6))\n",
    "\n",
    "# plot a histogram for the 'X' column in the first subplot\n",
    "sns.histplot(df[\"X\"], color=\"blue\", alpha=0.7, kde=True, ax=axes[0])\n",
    "axes[0].set_title(\"Histogram of X\")\n",
    "axes[0].set_xlabel(\"X Values\")\n",
    "axes[0].set_ylabel(\"Frequency\")\n",
    "\n",
    "# plot a histogram for the 'Y' column in the second subplot\n",
    "sns.histplot(df[\"Y\"], color=\"green\", alpha=0.7, kde=True, ax=axes[1])\n",
    "axes[1].set_title(\"Histogram of Y\")\n",
    "axes[1].set_xlabel(\"Y Values\")\n",
    "axes[1].set_ylabel(\"Frequency\")\n",
    "\n",
    "# ensure proper spacing between subplots\n",
    "plt.tight_layout()\n",
    "\n",
    "# show the plot\n",
    "plt.show()"
   ]
  },
  {
   "cell_type": "markdown",
   "metadata": {},
   "source": [
    "### Model Building"
   ]
  },
  {
   "cell_type": "code",
   "execution_count": 9,
   "metadata": {},
   "outputs": [
    {
     "data": {
      "text/plain": [
       "27    0.212404\n",
       "14    0.212404\n",
       "25    0.230673\n",
       "22   -0.152984\n",
       "16    0.522984\n",
       "Name: X, dtype: float64"
      ]
     },
     "execution_count": 9,
     "metadata": {},
     "output_type": "execute_result"
    }
   ],
   "source": [
    "from sklearn.model_selection import train_test_split\n",
    "\n",
    "# define a function for the linear regression model: Y = b0 + b1 * X\n",
    "\n",
    "\n",
    "def linear_regression(x: pd.Series, b0: float, b1: float) -> pd.Series:\n",
    "    \"\"\"\n",
    "    Calculate the linear regression model prediction.\n",
    "\n",
    "    Args:\n",
    "        x (pd.Series): The predictor variable (X).\n",
    "        b0 (float): The intercept.\n",
    "        b1 (float): The slope.\n",
    "\n",
    "    Returns:\n",
    "        pd.Series: The predicted values.\n",
    "    \"\"\"\n",
    "    return b0 + b1 * x\n",
    "\n",
    "\n",
    "# define a function to calculate the intercept (b0) of the linear regression model.\n",
    "\n",
    "\n",
    "def calculate_intercept(x: pd.Series, y: pd.Series, b1: float) -> float:\n",
    "    \"\"\"\n",
    "    Calculate the intercept (b0) of the linear regression model.\n",
    "\n",
    "    Args:\n",
    "        x (pd.Series): The predictor variable (X).\n",
    "        y (pd.Series): The target variable (Y).\n",
    "        b1 (float): The slope.\n",
    "\n",
    "    Returns:\n",
    "        float: The intercept (b0) of the linear regression model.\n",
    "    \"\"\"\n",
    "    return y.mean() - b1 * x.mean()\n",
    "\n",
    "\n",
    "# define a function to calculate the slope (b1) of the linear regression model.\n",
    "\n",
    "\n",
    "def calculate_slope(x: pd.Series, y: pd.Series) -> float:\n",
    "    \"\"\"\n",
    "    Calculate the slope (b1) of the linear regression model.\n",
    "\n",
    "    Args:\n",
    "        x (pd.Series): The predictor variable (X).\n",
    "        y (pd.Series): The target variable (Y).\n",
    "\n",
    "    Returns:\n",
    "        float: The slope (b1) of the linear regression model.\n",
    "    \"\"\"\n",
    "    return ((x - x.mean()) * (y - y.mean())).sum() / ((x - x.mean()) ** 2).sum()\n",
    "\n",
    "\n",
    "# split the data into X and y variables\n",
    "predictor, target = df[\"X\"], df[\"Y\"]\n",
    "\n",
    "# split the data into training and test sets (80% train, 20% test)\n",
    "predictor_train, predictor_test, target_train, target_test = train_test_split(\n",
    "    predictor, target, test_size=0.2, random_state=42\n",
    ")\n",
    "\n",
    "# calculate the slope (b1) of the linear regression model using training data\n",
    "b1 = calculate_slope(predictor_train, target_train)\n",
    "\n",
    "# calculate the intercept (b0) of the linear regression model using training data\n",
    "b0 = calculate_intercept(predictor_train, target_train, b1)\n",
    "\n",
    "# predict the target variable (Y) using the linear regression model on the test data\n",
    "predicted_test = linear_regression(predictor_test, b0, b1)\n",
    "\n",
    "# predict the target variable (Y) using the linear regression model on the training data\n",
    "predicted_train = linear_regression(predictor_train, b0, b1)\n",
    "\n",
    "# display the first 5 predicted values on the test set\n",
    "predicted_test[:5]"
   ]
  },
  {
   "cell_type": "markdown",
   "metadata": {},
   "source": [
    "### Model Evalution"
   ]
  },
  {
   "cell_type": "code",
   "execution_count": 10,
   "metadata": {},
   "outputs": [
    {
     "name": "stdout",
     "output_type": "stream",
     "text": [
      "Slope : 0.042968410697129\n",
      "Intercept : 0.5717710180636005\n",
      "R2 score : -5.623908716948721\n",
      "Mean Square Error : 0.3467675647051852\n"
     ]
    }
   ],
   "source": [
    "# define a function to calculate Mean Squared Error (MSE)\n",
    "def mse(y: pd.Series, y_pred: pd.Series) -> float:\n",
    "    \"\"\"\n",
    "    Calculate the Mean Squared Error (MSE) between the actual and predicted values.\n",
    "\n",
    "    Args:\n",
    "        y (pd.Series): The actual target values.\n",
    "        y_pred (pd.Series): The predicted values.\n",
    "\n",
    "    Returns:\n",
    "        float: The MSE.\n",
    "    \"\"\"\n",
    "    return ((y - y_pred) ** 2).mean()\n",
    "\n",
    "\n",
    "# define a function to calculate R-squared (R2) score\n",
    "\n",
    "\n",
    "def r_squared(y: pd.Series, y_pred: pd.Series) -> float:\n",
    "    \"\"\"\n",
    "    Calculate the R-squared (R2) score between the actual and predicted values.\n",
    "\n",
    "    Args:\n",
    "        y (pd.Series): The actual target values.\n",
    "        y_pred (pd.Series): The predicted values.\n",
    "\n",
    "    Returns:\n",
    "        float: The R2 score.\n",
    "    \"\"\"\n",
    "    return 1 - ((y - y_pred) ** 2).sum() / ((y - y.mean()) ** 2).sum()\n",
    "\n",
    "\n",
    "print(f\"Slope : {b0}\")\n",
    "print(f\"Intercept : {b1}\")\n",
    "print(f\"R2 score : {r_squared(target_test, predicted_test)}\")\n",
    "print(f\"Mean Square Error : {mse(target_test, predicted_test)}\")"
   ]
  },
  {
   "cell_type": "markdown",
   "metadata": {},
   "source": [
    "### Cross Verification"
   ]
  },
  {
   "cell_type": "code",
   "execution_count": 11,
   "metadata": {},
   "outputs": [
    {
     "name": "stdout",
     "output_type": "stream",
     "text": [
      "Intercept (b0): 0.042968410697129006\n",
      "Slope (b1): 0.5717710180636002\n",
      "R2 score (Test): -5.6239087169487165\n",
      "Mean Squared Error (Test): 0.346767564705185\n"
     ]
    }
   ],
   "source": [
    "from sklearn.linear_model import LinearRegression\n",
    "from sklearn.metrics import mean_squared_error, r2_score\n",
    "\n",
    "# create a Linear Regression model\n",
    "model = LinearRegression()\n",
    "\n",
    "# fit the model on the training data\n",
    "model.fit(predictor_train.values.reshape(-1, 1), target_train)\n",
    "\n",
    "# predict the target variable (Y) using the model on the test data\n",
    "predicted_test = model.predict(predictor_test.values.reshape(-1, 1))\n",
    "\n",
    "# calculate and display the R2 score and MSE for the test dataset\n",
    "r2_test = r2_score(target_test, predicted_test)\n",
    "mse_test = mean_squared_error(target_test, predicted_test)\n",
    "\n",
    "print(f\"Intercept (b0): {model.intercept_}\")\n",
    "print(f\"Slope (b1): {model.coef_[0]}\")\n",
    "print(f\"R2 score (Test): {r2_test}\")\n",
    "print(f\"Mean Squared Error (Test): {mse_test}\")"
   ]
  },
  {
   "cell_type": "markdown",
   "metadata": {},
   "source": [
    "### Prediction Line"
   ]
  },
  {
   "cell_type": "code",
   "execution_count": 12,
   "metadata": {},
   "outputs": [
    {
     "data": {
      "image/png": "[encoded data removed]",
      "text/plain": [
       "<Figure size 1200x600 with 1 Axes>"
      ]
     },
     "metadata": {},
     "output_type": "display_data"
    }
   ],
   "source": [
    "# create a figure and set its size\n",
    "plt.figure(figsize=(12, 6))\n",
    "\n",
    "# scatter plot for training data\n",
    "sns.scatterplot(x=predictor_train, y=target_train, label=\"Training Data\", color=\"blue\")\n",
    "\n",
    "# line plot for the linear regression model on training data\n",
    "sns.lineplot(\n",
    "    x=predictor_train,\n",
    "    y=predicted_train,\n",
    "    label=\"Linear Regression (Training)\",\n",
    "    linestyle=\"dotted\",\n",
    "    color=\"blue\",\n",
    ")\n",
    "\n",
    "# scatter plot for test data\n",
    "sns.scatterplot(x=predictor_test, y=target_test, label=\"Test Data\", color=\"red\")\n",
    "\n",
    "# line plot for the linear regression model on test data\n",
    "sns.lineplot(\n",
    "    x=predictor_test,\n",
    "    y=predicted_test,\n",
    "    label=\"Linear Regression (Test)\",\n",
    "    linestyle=\"dashed\",\n",
    "    color=\"red\",\n",
    ")\n",
    "\n",
    "# set labels for the x and y axes\n",
    "plt.xlabel(\"Predictor\")\n",
    "plt.ylabel(\"Target\")\n",
    "\n",
    "# set the title of the plot\n",
    "plt.title(\"Linear Regression Model\")\n",
    "\n",
    "# display the legend\n",
    "plt.legend()\n",
    "\n",
    "# ensure a tight layout\n",
    "plt.tight_layout()\n",
    "\n",
    "# show the plot\n",
    "plt.show()"
   ]
  }
 ],
 "metadata": {
  "kernelspec": {
   "display_name": "Python 3 (ipykernel)",
   "language": "python",
   "name": "python3"
  },
  "language_info": {
   "codemirror_mode": {
    "name": "ipython",
    "version": 3
   },
   "file_extension": ".py",
   "mimetype": "text/x-python",
   "name": "python",
   "nbconvert_exporter": "python",
   "pygments_lexer": "ipython3",
   "version": "3.11.4"
  }
 },
 "nbformat": 4,
 "nbformat_minor": 4
}
