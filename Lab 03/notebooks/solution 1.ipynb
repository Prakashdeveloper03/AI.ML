{
 "cells": [
  {
   "cell_type": "markdown",
   "metadata": {},
   "source": [
    "### Import required packages"
   ]
  },
  {
   "cell_type": "code",
   "execution_count": 1,
   "metadata": {},
   "outputs": [],
   "source": [
    "# import required packages\n",
    "import numpy as np  # for numerical operations\n",
    "import pandas as pd  # for data manipulation and analysis\n",
    "import matplotlib.pyplot as plt  # for data visualization\n",
    "import seaborn as sns  # for enhanced data visualization\n",
    "import warnings  # to suppress unnecessary warnings\n",
    "\n",
    "# Suppress warnings to enhance code readability\n",
    "warnings.filterwarnings(\"ignore\")"
   ]
  },
  {
   "cell_type": "markdown",
   "metadata": {},
   "source": [
    "### Load the Dataset"
   ]
  },
  {
   "cell_type": "code",
   "execution_count": 2,
   "metadata": {},
   "outputs": [
    {
     "name": "stdout",
     "output_type": "stream",
     "text": [
      "*** No CODEPAGE record, no encoding_override: will use 'iso-8859-1'\n"
     ]
    },
    {
     "data": {
      "text/html": [
       "<div>\n",
       "<style scoped>\n",
       "    .dataframe tbody tr th:only-of-type {\n",
       "        vertical-align: middle;\n",
       "    }\n",
       "\n",
       "    .dataframe tbody tr th {\n",
       "        vertical-align: top;\n",
       "    }\n",
       "\n",
       "    .dataframe thead th {\n",
       "        text-align: right;\n",
       "    }\n",
       "</style>\n",
       "<table border=\"1\" class=\"dataframe\">\n",
       "  <thead>\n",
       "    <tr style=\"text-align: right;\">\n",
       "      <th></th>\n",
       "      <th>X1</th>\n",
       "      <th>X2</th>\n",
       "      <th>X3</th>\n",
       "      <th>X4</th>\n",
       "      <th>X5</th>\n",
       "    </tr>\n",
       "  </thead>\n",
       "  <tbody>\n",
       "    <tr>\n",
       "      <th>0</th>\n",
       "      <td>6.8</td>\n",
       "      <td>225</td>\n",
       "      <td>0.442</td>\n",
       "      <td>0.672</td>\n",
       "      <td>9.2</td>\n",
       "    </tr>\n",
       "    <tr>\n",
       "      <th>1</th>\n",
       "      <td>6.3</td>\n",
       "      <td>180</td>\n",
       "      <td>0.435</td>\n",
       "      <td>0.797</td>\n",
       "      <td>11.7</td>\n",
       "    </tr>\n",
       "    <tr>\n",
       "      <th>2</th>\n",
       "      <td>6.4</td>\n",
       "      <td>190</td>\n",
       "      <td>0.456</td>\n",
       "      <td>0.761</td>\n",
       "      <td>15.8</td>\n",
       "    </tr>\n",
       "    <tr>\n",
       "      <th>3</th>\n",
       "      <td>6.2</td>\n",
       "      <td>180</td>\n",
       "      <td>0.416</td>\n",
       "      <td>0.651</td>\n",
       "      <td>8.6</td>\n",
       "    </tr>\n",
       "    <tr>\n",
       "      <th>4</th>\n",
       "      <td>6.9</td>\n",
       "      <td>205</td>\n",
       "      <td>0.449</td>\n",
       "      <td>0.900</td>\n",
       "      <td>23.2</td>\n",
       "    </tr>\n",
       "  </tbody>\n",
       "</table>\n",
       "</div>"
      ],
      "text/plain": [
       "    X1   X2     X3     X4    X5\n",
       "0  6.8  225  0.442  0.672   9.2\n",
       "1  6.3  180  0.435  0.797  11.7\n",
       "2  6.4  190  0.456  0.761  15.8\n",
       "3  6.2  180  0.416  0.651   8.6\n",
       "4  6.9  205  0.449  0.900  23.2"
      ]
     },
     "execution_count": 2,
     "metadata": {},
     "output_type": "execute_result"
    }
   ],
   "source": [
    "# reads 'ds4.xls' as a pandas dataframe\n",
    "df = pd.read_excel(\"../data/DS4.xls\", engine=\"xlrd\")\n",
    "\n",
    "# displays the top 5 rows of the dataframe\n",
    "df.head()"
   ]
  },
  {
   "cell_type": "markdown",
   "metadata": {},
   "source": [
    "### Handling Missing Values"
   ]
  },
  {
   "cell_type": "code",
   "execution_count": 3,
   "metadata": {},
   "outputs": [
    {
     "data": {
      "text/plain": [
       "X1    0\n",
       "X2    0\n",
       "X3    0\n",
       "X4    0\n",
       "X5    0\n",
       "dtype: int64"
      ]
     },
     "execution_count": 3,
     "metadata": {},
     "output_type": "execute_result"
    }
   ],
   "source": [
    "# counting null values in each column of the dataframe\n",
    "df.isna().sum()"
   ]
  },
  {
   "cell_type": "markdown",
   "metadata": {},
   "source": [
    "### Summary Statistics"
   ]
  },
  {
   "cell_type": "code",
   "execution_count": 4,
   "metadata": {},
   "outputs": [
    {
     "data": {
      "text/html": [
       "<div>\n",
       "<style scoped>\n",
       "    .dataframe tbody tr th:only-of-type {\n",
       "        vertical-align: middle;\n",
       "    }\n",
       "\n",
       "    .dataframe tbody tr th {\n",
       "        vertical-align: top;\n",
       "    }\n",
       "\n",
       "    .dataframe thead th {\n",
       "        text-align: right;\n",
       "    }\n",
       "</style>\n",
       "<table border=\"1\" class=\"dataframe\">\n",
       "  <thead>\n",
       "    <tr style=\"text-align: right;\">\n",
       "      <th></th>\n",
       "      <th>count</th>\n",
       "      <th>mean</th>\n",
       "      <th>std</th>\n",
       "      <th>min</th>\n",
       "      <th>25%</th>\n",
       "      <th>50%</th>\n",
       "      <th>75%</th>\n",
       "      <th>max</th>\n",
       "    </tr>\n",
       "  </thead>\n",
       "  <tbody>\n",
       "    <tr>\n",
       "      <th>X1</th>\n",
       "      <td>54.0</td>\n",
       "      <td>6.587037</td>\n",
       "      <td>0.458894</td>\n",
       "      <td>5.700</td>\n",
       "      <td>6.22500</td>\n",
       "      <td>6.6500</td>\n",
       "      <td>6.90000</td>\n",
       "      <td>7.600</td>\n",
       "    </tr>\n",
       "    <tr>\n",
       "      <th>X2</th>\n",
       "      <td>54.0</td>\n",
       "      <td>209.907407</td>\n",
       "      <td>30.265036</td>\n",
       "      <td>105.000</td>\n",
       "      <td>185.00000</td>\n",
       "      <td>212.5000</td>\n",
       "      <td>235.00000</td>\n",
       "      <td>263.000</td>\n",
       "    </tr>\n",
       "    <tr>\n",
       "      <th>X3</th>\n",
       "      <td>54.0</td>\n",
       "      <td>0.449111</td>\n",
       "      <td>0.056551</td>\n",
       "      <td>0.291</td>\n",
       "      <td>0.41525</td>\n",
       "      <td>0.4435</td>\n",
       "      <td>0.48350</td>\n",
       "      <td>0.599</td>\n",
       "    </tr>\n",
       "    <tr>\n",
       "      <th>X4</th>\n",
       "      <td>54.0</td>\n",
       "      <td>0.741852</td>\n",
       "      <td>0.100146</td>\n",
       "      <td>0.244</td>\n",
       "      <td>0.71300</td>\n",
       "      <td>0.7535</td>\n",
       "      <td>0.79525</td>\n",
       "      <td>0.900</td>\n",
       "    </tr>\n",
       "    <tr>\n",
       "      <th>X5</th>\n",
       "      <td>54.0</td>\n",
       "      <td>11.790741</td>\n",
       "      <td>5.899257</td>\n",
       "      <td>2.800</td>\n",
       "      <td>8.15000</td>\n",
       "      <td>10.7500</td>\n",
       "      <td>13.60000</td>\n",
       "      <td>27.400</td>\n",
       "    </tr>\n",
       "  </tbody>\n",
       "</table>\n",
       "</div>"
      ],
      "text/plain": [
       "    count        mean        std      min        25%       50%        75%  \\\n",
       "X1   54.0    6.587037   0.458894    5.700    6.22500    6.6500    6.90000   \n",
       "X2   54.0  209.907407  30.265036  105.000  185.00000  212.5000  235.00000   \n",
       "X3   54.0    0.449111   0.056551    0.291    0.41525    0.4435    0.48350   \n",
       "X4   54.0    0.741852   0.100146    0.244    0.71300    0.7535    0.79525   \n",
       "X5   54.0   11.790741   5.899257    2.800    8.15000   10.7500   13.60000   \n",
       "\n",
       "        max  \n",
       "X1    7.600  \n",
       "X2  263.000  \n",
       "X3    0.599  \n",
       "X4    0.900  \n",
       "X5   27.400  "
      ]
     },
     "execution_count": 4,
     "metadata": {},
     "output_type": "execute_result"
    }
   ],
   "source": [
    "# gives summary stats for each field in the dataframe\n",
    "df.describe().T"
   ]
  },
  {
   "cell_type": "markdown",
   "metadata": {},
   "source": [
    "### Outliers Removal"
   ]
  },
  {
   "cell_type": "code",
   "execution_count": 5,
   "metadata": {},
   "outputs": [
    {
     "data": {
      "text/plain": [
       "(array([], dtype=int64), array([], dtype=int64))"
      ]
     },
     "execution_count": 5,
     "metadata": {},
     "output_type": "execute_result"
    }
   ],
   "source": [
    "# calculate z-scores for each element in the dataFrame\n",
    "# define a threshold for identifying outliers (e.g., z-score > 3 for extreme outliers)\n",
    "np.where(df.apply(lambda x: (x - x.mean()) / x.std()) > 3)"
   ]
  },
  {
   "cell_type": "code",
   "execution_count": 6,
   "metadata": {},
   "outputs": [],
   "source": [
    "# remove rows with outliers based on the threshold\n",
    "df.drop(np.where(df.apply(lambda x: (x - x.mean()) / x.std()) > 3)[0], inplace=True)"
   ]
  },
  {
   "cell_type": "markdown",
   "metadata": {},
   "source": [
    "### Data Normalization"
   ]
  },
  {
   "cell_type": "code",
   "execution_count": 7,
   "metadata": {},
   "outputs": [],
   "source": [
    "# normalize each column in the DataFrame 'df' by subtracting the mean and dividing by the standard deviation.\n",
    "df = df.apply(lambda x: (x - x.mean()) / x.std())"
   ]
  },
  {
   "cell_type": "markdown",
   "metadata": {},
   "source": [
    "### Data Visualization"
   ]
  },
  {
   "cell_type": "code",
   "execution_count": 8,
   "metadata": {},
   "outputs": [
    {
     "data": {
      "image/png": "[encoded data removed]",
      "text/plain": [
       "<Figure size 1200x800 with 4 Axes>"
      ]
     },
     "metadata": {},
     "output_type": "display_data"
    }
   ],
   "source": [
    "# create a figure with two subplots\n",
    "fig, axes = plt.subplots(nrows=2, ncols=2, figsize=(12, 8))\n",
    "\n",
    "# plot a histogram for the 'X1' column\n",
    "sns.histplot(df[\"X1\"], color=\"blue\", alpha=0.7, kde=True, ax=axes[0, 0])\n",
    "axes[0, 0].set_title(\"Histogram of X1\")\n",
    "axes[0, 0].set_xlabel(\"X1 Values\")\n",
    "axes[0, 0].set_ylabel(\"Frequency\")\n",
    "\n",
    "# plot a histogram for the 'X2' column\n",
    "sns.histplot(df[\"X2\"], color=\"blue\", alpha=0.7, kde=True, ax=axes[0, 1])\n",
    "axes[0, 1].set_title(\"Histogram of X2\")\n",
    "axes[0, 1].set_xlabel(\"X2 Values\")\n",
    "axes[0, 1].set_ylabel(\"Frequency\")\n",
    "\n",
    "# plot a histogram for the 'X3' column\n",
    "sns.histplot(df[\"X3\"], color=\"blue\", alpha=0.7, kde=True, ax=axes[1, 0])\n",
    "axes[1, 0].set_title(\"Histogram of X3\")\n",
    "axes[1, 0].set_xlabel(\"X3 Values\")\n",
    "axes[1, 0].set_ylabel(\"Frequency\")\n",
    "\n",
    "# plot a histogram for the 'X4' column in the third subplot\n",
    "sns.histplot(df[\"X4\"], color=\"blue\", alpha=0.7, kde=True, ax=axes[1, 1])\n",
    "axes[1, 1].set_title(\"Histogram of X4\")\n",
    "axes[1, 1].set_xlabel(\"X4 Values\")\n",
    "axes[1, 1].set_ylabel(\"Frequency\")\n",
    "\n",
    "# ensure proper spacing between subplots\n",
    "plt.tight_layout()\n",
    "\n",
    "# show the plot\n",
    "plt.show()"
   ]
  },
  {
   "cell_type": "markdown",
   "metadata": {},
   "source": [
    "### Model Building"
   ]
  },
  {
   "cell_type": "code",
   "execution_count": 9,
   "metadata": {},
   "outputs": [],
   "source": [
    "def multiple_linear_regression(X: np.ndarray, Y: np.ndarray) -> np.ndarray:\n",
    "    \"\"\"\n",
    "    Perform multiple linear regression to calculate beta coefficients.\n",
    "\n",
    "    Args:\n",
    "        X (np.ndarray): The predictor variables matrix with shape (n_samples, n_features).\n",
    "        Y (np.ndarray): The target variable vector with shape (n_samples,).\n",
    "\n",
    "    Returns:\n",
    "        np.ndarray: The beta coefficients, including the intercept (b0), with shape (n_features + 1,).\n",
    "    \"\"\"\n",
    "    X = np.column_stack((np.ones(len(X)), X))\n",
    "    beta = np.linalg.inv(X.T @ X) @ X.T @ Y\n",
    "    return beta\n",
    "\n",
    "\n",
    "def mse(y: pd.Series, y_pred: np.ndarray) -> float:\n",
    "    \"\"\"\n",
    "    Calculate the Mean Squared Error (MSE) between the actual and predicted values for multiple linear regression.\n",
    "\n",
    "    Args:\n",
    "        y (pd.Series): The actual target values.\n",
    "        y_pred (np.ndarray): The predicted values.\n",
    "\n",
    "    Returns:\n",
    "        float: The MSE.\n",
    "    \"\"\"\n",
    "    return ((y - y_pred) ** 2).mean()\n",
    "\n",
    "\n",
    "def r_squared(y: pd.Series, y_pred: np.ndarray) -> float:\n",
    "    \"\"\"\n",
    "    Calculate the R-squared (R2) score between the actual and predicted values for multiple linear regression.\n",
    "\n",
    "    Args:\n",
    "        y (pd.Series): The actual target values.\n",
    "        y_pred (np.ndarray): The predicted values.\n",
    "\n",
    "    Returns:\n",
    "        float: The R2 score.\n",
    "    \"\"\"\n",
    "    SS_res = ((y - y_pred) ** 2).sum()\n",
    "    SS_tot = ((y - y.mean()) ** 2).sum()\n",
    "    return 1 - (SS_res / SS_tot)"
   ]
  },
  {
   "cell_type": "code",
   "execution_count": 10,
   "metadata": {},
   "outputs": [
    {
     "name": "stdout",
     "output_type": "stream",
     "text": [
      "Intercept (b0): 0.02724147698246123\n",
      "Slopes (b1..b4): [-0.11138825 -0.13935525  0.4446411   0.1558055 ]\n",
      "R2 score : 0.13027204737885045\n",
      "Mean Square Error : 1.1470302991604622\n"
     ]
    }
   ],
   "source": [
    "from sklearn.model_selection import train_test_split\n",
    "\n",
    "# split the data into X (predictor variables) and y (target variable)\n",
    "X = df.drop(columns=[\"X5\"])\n",
    "Y = df[\"X5\"]\n",
    "\n",
    "# split the data into training and test sets (80% train, 20% test)\n",
    "X_train, X_test, Y_train, Y_test = train_test_split(\n",
    "    X, Y, test_size=0.2, random_state=42\n",
    ")\n",
    "\n",
    "# fit the multiple linear regression model using training data\n",
    "beta = multiple_linear_regression(X_train, Y_train)\n",
    "\n",
    "# calculate predictions on the test data\n",
    "X_test_stack = np.column_stack(\n",
    "    (np.ones(len(X_test)), X_test)\n",
    ")  # Add a column of ones for the intercept\n",
    "Y_predicted = X_test_stack @ beta\n",
    "print(f\"Intercept (b0): {beta[0]}\")\n",
    "print(f\"Slopes (b1..b4): {beta[1:]}\")\n",
    "print(f\"R2 score : {r_squared(Y_test, Y_predicted)}\")\n",
    "print(f\"Mean Square Error : {mse(Y_test, Y_predicted)}\")"
   ]
  },
  {
   "cell_type": "markdown",
   "metadata": {},
   "source": [
    "### Cross Verification"
   ]
  },
  {
   "cell_type": "code",
   "execution_count": 11,
   "metadata": {},
   "outputs": [
    {
     "name": "stdout",
     "output_type": "stream",
     "text": [
      "Intercept (b0): 0.02724147698246128\n",
      "Slopes (b1..b4): [-0.11138825 -0.13935525  0.4446411   0.1558055 ]\n",
      "R2 score (Test): 0.13027204737885045\n",
      "Mean Squared Error (Test): 1.1470302991604622\n"
     ]
    }
   ],
   "source": [
    "from sklearn.linear_model import LinearRegression\n",
    "from sklearn.metrics import mean_squared_error, r2_score\n",
    "\n",
    "# create a Linear Regression model\n",
    "model = LinearRegression()\n",
    "\n",
    "# fit the model on the training data\n",
    "model.fit(X_train, Y_train)\n",
    "\n",
    "# predict the target variable (Y) using the model on the test data\n",
    "predicted_test = model.predict(X_test)\n",
    "print(f\"Intercept (b0): {model.intercept_}\")\n",
    "print(f\"Slopes (b1..b4): {model.coef_}\")\n",
    "print(f\"R2 score (Test): {r2_score(Y_test, predicted_test)}\")\n",
    "print(f\"Mean Squared Error (Test): {mean_squared_error(Y_test, predicted_test)}\")"
   ]
  }
 ],
 "metadata": {
  "kernelspec": {
   "display_name": "Python 3 (ipykernel)",
   "language": "python",
   "name": "python3"
  },
  "language_info": {
   "codemirror_mode": {
    "name": "ipython",
    "version": 3
   },
   "file_extension": ".py",
   "mimetype": "text/x-python",
   "name": "python",
   "nbconvert_exporter": "python",
   "pygments_lexer": "ipython3",
   "version": "3.11.4"
  }
 },
 "nbformat": 4,
 "nbformat_minor": 4
}
