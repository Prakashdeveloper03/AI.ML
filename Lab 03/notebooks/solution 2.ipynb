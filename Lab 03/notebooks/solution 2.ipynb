{
 "cells": [
  {
   "cell_type": "markdown",
   "metadata": {},
   "source": [
    "### Import required packages"
   ]
  },
  {
   "cell_type": "code",
   "execution_count": 12,
   "metadata": {},
   "outputs": [],
   "source": [
    "# import required packages\n",
    "import numpy as np  # for numerical operations\n",
    "import pandas as pd  # for data manipulation and analysis\n",
    "import matplotlib.pyplot as plt  # for data visualization\n",
    "import seaborn as sns  # for enhanced data visualization\n",
    "import warnings  # to suppress unnecessary warnings\n",
    "\n",
    "# Suppress warnings to enhance code readability\n",
    "warnings.filterwarnings(\"ignore\")"
   ]
  },
  {
   "cell_type": "markdown",
   "metadata": {},
   "source": [
    "### Load the Dataset"
   ]
  },
  {
   "cell_type": "code",
   "execution_count": 13,
   "metadata": {},
   "outputs": [
    {
     "name": "stdout",
     "output_type": "stream",
     "text": [
      "*** No CODEPAGE record, no encoding_override: will use 'iso-8859-1'\n"
     ]
    },
    {
     "data": {
      "text/html": [
       "<div>\n",
       "<style scoped>\n",
       "    .dataframe tbody tr th:only-of-type {\n",
       "        vertical-align: middle;\n",
       "    }\n",
       "\n",
       "    .dataframe tbody tr th {\n",
       "        vertical-align: top;\n",
       "    }\n",
       "\n",
       "    .dataframe thead th {\n",
       "        text-align: right;\n",
       "    }\n",
       "</style>\n",
       "<table border=\"1\" class=\"dataframe\">\n",
       "  <thead>\n",
       "    <tr style=\"text-align: right;\">\n",
       "      <th></th>\n",
       "      <th>X1</th>\n",
       "      <th>X2</th>\n",
       "      <th>X3</th>\n",
       "      <th>X4</th>\n",
       "      <th>X5</th>\n",
       "      <th>X6</th>\n",
       "      <th>X7</th>\n",
       "    </tr>\n",
       "  </thead>\n",
       "  <tbody>\n",
       "    <tr>\n",
       "      <th>0</th>\n",
       "      <td>478</td>\n",
       "      <td>184</td>\n",
       "      <td>40</td>\n",
       "      <td>74</td>\n",
       "      <td>11</td>\n",
       "      <td>31</td>\n",
       "      <td>20</td>\n",
       "    </tr>\n",
       "    <tr>\n",
       "      <th>1</th>\n",
       "      <td>494</td>\n",
       "      <td>213</td>\n",
       "      <td>32</td>\n",
       "      <td>72</td>\n",
       "      <td>11</td>\n",
       "      <td>43</td>\n",
       "      <td>18</td>\n",
       "    </tr>\n",
       "    <tr>\n",
       "      <th>2</th>\n",
       "      <td>643</td>\n",
       "      <td>347</td>\n",
       "      <td>57</td>\n",
       "      <td>70</td>\n",
       "      <td>18</td>\n",
       "      <td>16</td>\n",
       "      <td>16</td>\n",
       "    </tr>\n",
       "    <tr>\n",
       "      <th>3</th>\n",
       "      <td>341</td>\n",
       "      <td>565</td>\n",
       "      <td>31</td>\n",
       "      <td>71</td>\n",
       "      <td>11</td>\n",
       "      <td>25</td>\n",
       "      <td>19</td>\n",
       "    </tr>\n",
       "    <tr>\n",
       "      <th>4</th>\n",
       "      <td>773</td>\n",
       "      <td>327</td>\n",
       "      <td>67</td>\n",
       "      <td>72</td>\n",
       "      <td>9</td>\n",
       "      <td>29</td>\n",
       "      <td>24</td>\n",
       "    </tr>\n",
       "  </tbody>\n",
       "</table>\n",
       "</div>"
      ],
      "text/plain": [
       "    X1   X2  X3  X4  X5  X6  X7\n",
       "0  478  184  40  74  11  31  20\n",
       "1  494  213  32  72  11  43  18\n",
       "2  643  347  57  70  18  16  16\n",
       "3  341  565  31  71  11  25  19\n",
       "4  773  327  67  72   9  29  24"
      ]
     },
     "execution_count": 13,
     "metadata": {},
     "output_type": "execute_result"
    }
   ],
   "source": [
    "# reads 'ds5.xls' as a pandas dataframe\n",
    "df = pd.read_excel(\"../data/DS5.xls\", engine=\"xlrd\")\n",
    "\n",
    "# displays the top 5 rows of the dataframe\n",
    "df.head()"
   ]
  },
  {
   "cell_type": "markdown",
   "metadata": {},
   "source": [
    "### Handling Missing Values"
   ]
  },
  {
   "cell_type": "code",
   "execution_count": 14,
   "metadata": {},
   "outputs": [
    {
     "data": {
      "text/plain": [
       "X1    0\n",
       "X2    0\n",
       "X3    0\n",
       "X4    0\n",
       "X5    0\n",
       "X6    0\n",
       "X7    0\n",
       "dtype: int64"
      ]
     },
     "execution_count": 14,
     "metadata": {},
     "output_type": "execute_result"
    }
   ],
   "source": [
    "# counting null values in each column of the dataframe\n",
    "df.isna().sum()"
   ]
  },
  {
   "cell_type": "markdown",
   "metadata": {},
   "source": [
    "### Summary Statistics"
   ]
  },
  {
   "cell_type": "code",
   "execution_count": 15,
   "metadata": {},
   "outputs": [
    {
     "data": {
      "text/html": [
       "<div>\n",
       "<style scoped>\n",
       "    .dataframe tbody tr th:only-of-type {\n",
       "        vertical-align: middle;\n",
       "    }\n",
       "\n",
       "    .dataframe tbody tr th {\n",
       "        vertical-align: top;\n",
       "    }\n",
       "\n",
       "    .dataframe thead th {\n",
       "        text-align: right;\n",
       "    }\n",
       "</style>\n",
       "<table border=\"1\" class=\"dataframe\">\n",
       "  <thead>\n",
       "    <tr style=\"text-align: right;\">\n",
       "      <th></th>\n",
       "      <th>count</th>\n",
       "      <th>mean</th>\n",
       "      <th>std</th>\n",
       "      <th>min</th>\n",
       "      <th>25%</th>\n",
       "      <th>50%</th>\n",
       "      <th>75%</th>\n",
       "      <th>max</th>\n",
       "    </tr>\n",
       "  </thead>\n",
       "  <tbody>\n",
       "    <tr>\n",
       "      <th>X1</th>\n",
       "      <td>50.0</td>\n",
       "      <td>717.96</td>\n",
       "      <td>293.938766</td>\n",
       "      <td>341.0</td>\n",
       "      <td>497.00</td>\n",
       "      <td>654.5</td>\n",
       "      <td>820.50</td>\n",
       "      <td>1740.0</td>\n",
       "    </tr>\n",
       "    <tr>\n",
       "      <th>X2</th>\n",
       "      <td>50.0</td>\n",
       "      <td>616.18</td>\n",
       "      <td>573.739175</td>\n",
       "      <td>29.0</td>\n",
       "      <td>230.75</td>\n",
       "      <td>454.0</td>\n",
       "      <td>822.50</td>\n",
       "      <td>3545.0</td>\n",
       "    </tr>\n",
       "    <tr>\n",
       "      <th>X3</th>\n",
       "      <td>50.0</td>\n",
       "      <td>37.76</td>\n",
       "      <td>13.820364</td>\n",
       "      <td>16.0</td>\n",
       "      <td>30.00</td>\n",
       "      <td>34.5</td>\n",
       "      <td>42.25</td>\n",
       "      <td>86.0</td>\n",
       "    </tr>\n",
       "    <tr>\n",
       "      <th>X4</th>\n",
       "      <td>50.0</td>\n",
       "      <td>58.80</td>\n",
       "      <td>9.965246</td>\n",
       "      <td>42.0</td>\n",
       "      <td>49.00</td>\n",
       "      <td>59.0</td>\n",
       "      <td>67.00</td>\n",
       "      <td>81.0</td>\n",
       "    </tr>\n",
       "    <tr>\n",
       "      <th>X5</th>\n",
       "      <td>50.0</td>\n",
       "      <td>15.40</td>\n",
       "      <td>6.023762</td>\n",
       "      <td>4.0</td>\n",
       "      <td>11.00</td>\n",
       "      <td>14.0</td>\n",
       "      <td>19.00</td>\n",
       "      <td>34.0</td>\n",
       "    </tr>\n",
       "    <tr>\n",
       "      <th>X6</th>\n",
       "      <td>50.0</td>\n",
       "      <td>29.90</td>\n",
       "      <td>14.801062</td>\n",
       "      <td>7.0</td>\n",
       "      <td>21.25</td>\n",
       "      <td>25.0</td>\n",
       "      <td>34.25</td>\n",
       "      <td>81.0</td>\n",
       "    </tr>\n",
       "    <tr>\n",
       "      <th>X7</th>\n",
       "      <td>50.0</td>\n",
       "      <td>13.82</td>\n",
       "      <td>5.157479</td>\n",
       "      <td>8.0</td>\n",
       "      <td>11.00</td>\n",
       "      <td>12.0</td>\n",
       "      <td>15.75</td>\n",
       "      <td>36.0</td>\n",
       "    </tr>\n",
       "  </tbody>\n",
       "</table>\n",
       "</div>"
      ],
      "text/plain": [
       "    count    mean         std    min     25%    50%     75%     max\n",
       "X1   50.0  717.96  293.938766  341.0  497.00  654.5  820.50  1740.0\n",
       "X2   50.0  616.18  573.739175   29.0  230.75  454.0  822.50  3545.0\n",
       "X3   50.0   37.76   13.820364   16.0   30.00   34.5   42.25    86.0\n",
       "X4   50.0   58.80    9.965246   42.0   49.00   59.0   67.00    81.0\n",
       "X5   50.0   15.40    6.023762    4.0   11.00   14.0   19.00    34.0\n",
       "X6   50.0   29.90   14.801062    7.0   21.25   25.0   34.25    81.0\n",
       "X7   50.0   13.82    5.157479    8.0   11.00   12.0   15.75    36.0"
      ]
     },
     "execution_count": 15,
     "metadata": {},
     "output_type": "execute_result"
    }
   ],
   "source": [
    "# gives summary stats for each field in the dataframe\n",
    "df.describe().T"
   ]
  },
  {
   "cell_type": "markdown",
   "metadata": {},
   "source": [
    "### Outliers Removal"
   ]
  },
  {
   "cell_type": "code",
   "execution_count": 16,
   "metadata": {},
   "outputs": [
    {
     "data": {
      "text/plain": [
       "(array([11, 11, 17, 40, 40, 40, 42, 48]), array([5, 6, 5, 0, 1, 2, 4, 2]))"
      ]
     },
     "execution_count": 16,
     "metadata": {},
     "output_type": "execute_result"
    }
   ],
   "source": [
    "# calculate z-scores for each element in the dataFrame\n",
    "# define a threshold for identifying outliers (e.g., z-score > 3 for extreme outliers)\n",
    "np.where(df.apply(lambda x: (x - x.mean()) / x.std()) > 3)"
   ]
  },
  {
   "cell_type": "code",
   "execution_count": 17,
   "metadata": {},
   "outputs": [],
   "source": [
    "# remove rows with outliers based on the threshold\n",
    "df.drop(np.where(df.apply(lambda x: (x - x.mean()) / x.std()) > 3)[0], inplace=True)"
   ]
  },
  {
   "cell_type": "markdown",
   "metadata": {},
   "source": [
    "### Data Normalization"
   ]
  },
  {
   "cell_type": "code",
   "execution_count": 18,
   "metadata": {},
   "outputs": [],
   "source": [
    "# normalize each column in the DataFrame 'df' by subtracting the mean and dividing by the standard deviation.\n",
    "df = df.apply(lambda x: (x - x.mean()) / x.std())"
   ]
  },
  {
   "cell_type": "markdown",
   "metadata": {},
   "source": [
    "### Data Visualization"
   ]
  },
  {
   "cell_type": "code",
   "execution_count": 19,
   "metadata": {},
   "outputs": [
    {
     "data": {
      "image/png": "[encoded data removed]",
      "text/plain": [
       "<Figure size 1200x800 with 6 Axes>"
      ]
     },
     "metadata": {},
     "output_type": "display_data"
    }
   ],
   "source": [
    "# create a figure with two subplots\n",
    "fig, axes = plt.subplots(nrows=2, ncols=3, figsize=(12, 8))\n",
    "\n",
    "# plot a histogram for the 'X1' column\n",
    "sns.histplot(df[\"X1\"], color=\"blue\", alpha=0.7, kde=True, ax=axes[0, 0])\n",
    "axes[0, 0].set_title(\"Histogram of X1\")\n",
    "axes[0, 0].set_xlabel(\"X1 Values\")\n",
    "axes[0, 0].set_ylabel(\"Frequency\")\n",
    "\n",
    "# plot a histogram for the 'X2' column\n",
    "sns.histplot(df[\"X2\"], color=\"blue\", alpha=0.7, kde=True, ax=axes[0, 1])\n",
    "axes[0, 1].set_title(\"Histogram of X2\")\n",
    "axes[0, 1].set_xlabel(\"X2 Values\")\n",
    "axes[0, 1].set_ylabel(\"Frequency\")\n",
    "\n",
    "# plot a histogram for the 'X3' column\n",
    "sns.histplot(df[\"X3\"], color=\"blue\", alpha=0.7, kde=True, ax=axes[0, 2])\n",
    "axes[0, 2].set_title(\"Histogram of X3\")\n",
    "axes[0, 2].set_xlabel(\"X3 Values\")\n",
    "axes[0, 2].set_ylabel(\"Frequency\")\n",
    "\n",
    "# plot a histogram for the 'X4' column\n",
    "sns.histplot(df[\"X4\"], color=\"blue\", alpha=0.7, kde=True, ax=axes[1, 0])\n",
    "axes[1, 0].set_title(\"Histogram of X4\")\n",
    "axes[1, 0].set_xlabel(\"X4 Values\")\n",
    "axes[1, 0].set_ylabel(\"Frequency\")\n",
    "\n",
    "# plot a histogram for the 'X5' column\n",
    "sns.histplot(df[\"X5\"], color=\"blue\", alpha=0.7, kde=True, ax=axes[1, 1])\n",
    "axes[1, 1].set_title(\"Histogram of X5\")\n",
    "axes[1, 1].set_xlabel(\"X5 Values\")\n",
    "axes[1, 1].set_ylabel(\"Frequency\")\n",
    "\n",
    "# plot a histogram for the 'X6' column\n",
    "sns.histplot(df[\"X6\"], color=\"blue\", alpha=0.7, kde=True, ax=axes[1, 2])\n",
    "axes[1, 2].set_title(\"Histogram of X6\")\n",
    "axes[1, 2].set_xlabel(\"X6 Values\")\n",
    "axes[1, 2].set_ylabel(\"Frequency\")\n",
    "\n",
    "# ensure proper spacing between subplots\n",
    "plt.tight_layout()\n",
    "\n",
    "# show the plot\n",
    "plt.show()"
   ]
  },
  {
   "cell_type": "markdown",
   "metadata": {},
   "source": [
    "### Model Building"
   ]
  },
  {
   "cell_type": "code",
   "execution_count": 20,
   "metadata": {},
   "outputs": [],
   "source": [
    "def multiple_linear_regression(X: np.ndarray, Y: np.ndarray) -> np.ndarray:\n",
    "    \"\"\"\n",
    "    Perform multiple linear regression to calculate beta coefficients.\n",
    "\n",
    "    Args:\n",
    "        X (np.ndarray): The predictor variables matrix with shape (n_samples, n_features).\n",
    "        Y (np.ndarray): The target variable vector with shape (n_samples,).\n",
    "\n",
    "    Returns:\n",
    "        np.ndarray: The beta coefficients, including the intercept (b0), with shape (n_features + 1,).\n",
    "    \"\"\"\n",
    "    X = np.column_stack((np.ones(len(X)), X))\n",
    "    beta = np.linalg.inv(X.T @ X) @ X.T @ Y\n",
    "    return beta\n",
    "\n",
    "\n",
    "def mse(y: pd.Series, y_pred: np.ndarray) -> float:\n",
    "    \"\"\"\n",
    "    Calculate the Mean Squared Error (MSE) between the actual and predicted values for multiple linear regression.\n",
    "\n",
    "    Args:\n",
    "        y (pd.Series): The actual target values.\n",
    "        y_pred (np.ndarray): The predicted values.\n",
    "\n",
    "    Returns:\n",
    "        float: The MSE.\n",
    "    \"\"\"\n",
    "    return ((y - y_pred) ** 2).mean()\n",
    "\n",
    "\n",
    "def r_squared(y: pd.Series, y_pred: np.ndarray) -> float:\n",
    "    \"\"\"\n",
    "    Calculate the R-squared (R2) score between the actual and predicted values for multiple linear regression.\n",
    "\n",
    "    Args:\n",
    "        y (pd.Series): The actual target values.\n",
    "        y_pred (np.ndarray): The predicted values.\n",
    "\n",
    "    Returns:\n",
    "        float: The R2 score.\n",
    "    \"\"\"\n",
    "    SS_res = ((y - y_pred) ** 2).sum()\n",
    "    SS_tot = ((y - y.mean()) ** 2).sum()\n",
    "    return 1 - (SS_res / SS_tot)"
   ]
  },
  {
   "cell_type": "code",
   "execution_count": 21,
   "metadata": {},
   "outputs": [
    {
     "name": "stdout",
     "output_type": "stream",
     "text": [
      "Intercept (b0): -0.156456306100845\n",
      "Slopes (b1, b2, ...): [ 0.60255005  0.04298347  0.18819295  0.15393709  0.18065737 -0.26353237]\n",
      "R2 score : -0.07701862689226657\n",
      "Mean Square Error : 2.0821696570432304\n"
     ]
    }
   ],
   "source": [
    "from sklearn.model_selection import train_test_split\n",
    "\n",
    "# split the data into X (predictor variables) and y (target variable)\n",
    "X = df.drop(columns=[\"X1\"])\n",
    "Y = df[\"X1\"]\n",
    "\n",
    "# split the data into training and test sets (80% train, 20% test)\n",
    "X_train, X_test, Y_train, Y_test = train_test_split(\n",
    "    X, Y, test_size=0.2, random_state=42\n",
    ")\n",
    "\n",
    "# fit the multiple linear regression model using training data\n",
    "beta = multiple_linear_regression(X_train, Y_train)\n",
    "\n",
    "# calculate predictions on the test data\n",
    "X_test_stack = np.column_stack(\n",
    "    (np.ones(len(X_test)), X_test)\n",
    ")  # Add a column of ones for the intercept\n",
    "Y_predicted = X_test_stack @ beta\n",
    "print(f\"Intercept (b0): {beta[0]}\")\n",
    "print(f\"Slopes (b1, b2, ...): {beta[1:]}\")\n",
    "print(f\"R2 score : {r_squared(Y_test, Y_predicted)}\")\n",
    "print(f\"Mean Square Error : {mse(Y_test, Y_predicted)}\")"
   ]
  },
  {
   "cell_type": "markdown",
   "metadata": {},
   "source": [
    "### Cross Verification"
   ]
  },
  {
   "cell_type": "code",
   "execution_count": 22,
   "metadata": {},
   "outputs": [
    {
     "name": "stdout",
     "output_type": "stream",
     "text": [
      "Intercept (b0): -0.156456306100845\n",
      "Slopes (b1, b2, ...): [ 0.60255005  0.04298347  0.18819295  0.15393709  0.18065737 -0.26353237]\n",
      "R2 score (Test): -0.0770186268922668\n",
      "Mean Squared Error (Test): 2.082169657043231\n"
     ]
    }
   ],
   "source": [
    "from sklearn.linear_model import LinearRegression\n",
    "from sklearn.metrics import mean_squared_error, r2_score\n",
    "\n",
    "# create a Linear Regression model\n",
    "model = LinearRegression()\n",
    "\n",
    "# fit the model on the training data\n",
    "model.fit(X_train, Y_train)\n",
    "\n",
    "# predict the target variable (Y) using the model on the test data\n",
    "predicted_test = model.predict(X_test)\n",
    "print(f\"Intercept (b0): {model.intercept_}\")\n",
    "print(f\"Slopes (b1, b2, ...): {model.coef_}\")\n",
    "print(f\"R2 score (Test): {r2_score(Y_test, predicted_test)}\")\n",
    "print(f\"Mean Squared Error (Test): {mean_squared_error(Y_test, predicted_test)}\")"
   ]
  }
 ],
 "metadata": {
  "kernelspec": {
   "display_name": "Python 3 (ipykernel)",
   "language": "python",
   "name": "python3"
  },
  "language_info": {
   "codemirror_mode": {
    "name": "ipython",
    "version": 3
   },
   "file_extension": ".py",
   "mimetype": "text/x-python",
   "name": "python",
   "nbconvert_exporter": "python",
   "pygments_lexer": "ipython3",
   "version": "3.11.4"
  }
 },
 "nbformat": 4,
 "nbformat_minor": 4
}
